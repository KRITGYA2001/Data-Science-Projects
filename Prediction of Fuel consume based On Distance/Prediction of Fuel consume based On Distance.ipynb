{
 "cells": [
  {
   "cell_type": "code",
   "execution_count": 23,
   "id": "fa9adfc6",
   "metadata": {},
   "outputs": [],
   "source": [
    "import pandas as pd\n",
    "import numpy as np\n",
    "from sklearn.linear_model import LinearRegression"
   ]
  },
  {
   "cell_type": "code",
   "execution_count": 27,
   "id": "c828ee08",
   "metadata": {},
   "outputs": [],
   "source": [
    "file=pd.read_csv(\"carsample.csv\")"
   ]
  },
  {
   "cell_type": "code",
   "execution_count": 28,
   "id": "ea483ab8",
   "metadata": {},
   "outputs": [],
   "source": [
    "x=file[\"distance\"].values[:,np.newaxis]\n",
    "y=file[\"consume\"].values"
   ]
  },
  {
   "cell_type": "code",
   "execution_count": 29,
   "id": "2fdcbbc9",
   "metadata": {},
   "outputs": [
    {
     "data": {
      "text/plain": [
       "LinearRegression()"
      ]
     },
     "execution_count": 29,
     "metadata": {},
     "output_type": "execute_result"
    }
   ],
   "source": [
    "lst=LinearRegression()\n",
    "lst.fit(x,y)"
   ]
  },
  {
   "cell_type": "code",
   "execution_count": 30,
   "id": "f8e24544",
   "metadata": {},
   "outputs": [
    {
     "name": "stdout",
     "output_type": "stream",
     "text": [
      "[44.4102273  44.42259603 44.43496476 44.44733349 44.45970223]\n"
     ]
    }
   ],
   "source": [
    "test_values=[[11],[12],[13],[14],[15]]\n",
    "values=lst.predict(test_values)\n",
    "print(values)"
   ]
  }
 ],
 "metadata": {
  "kernelspec": {
   "display_name": "Python 3",
   "language": "python",
   "name": "python3"
  },
  "language_info": {
   "codemirror_mode": {
    "name": "ipython",
    "version": 3
   },
   "file_extension": ".py",
   "mimetype": "text/x-python",
   "name": "python",
   "nbconvert_exporter": "python",
   "pygments_lexer": "ipython3",
   "version": "3.8.8"
  }
 },
 "nbformat": 4,
 "nbformat_minor": 5
}
